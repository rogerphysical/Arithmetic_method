{
 "cells": [
  {
   "cell_type": "markdown",
   "metadata": {},
   "source": [
    "先建立Heap Tree"
   ]
  },
  {
   "cell_type": "markdown",
   "metadata": {},
   "source": [
    "add為新增資料"
   ]
  },
  {
   "cell_type": "markdown",
   "metadata": {},
   "source": [
    "get為得到該點值"
   ]
  },
  {
   "cell_type": "markdown",
   "metadata": {},
   "source": [
    "getL為得到該點的left child"
   ]
  },
  {
   "cell_type": "markdown",
   "metadata": {},
   "source": [
    "getR為得到該點的right child"
   ]
  },
  {
   "cell_type": "markdown",
   "metadata": {},
   "source": [
    "changemax為交換最大者 直到排完"
   ]
  },
  {
   "cell_type": "markdown",
   "metadata": {},
   "source": [
    "maxheap為進行maxheap"
   ]
  },
  {
   "cell_type": "markdown",
   "metadata": {},
   "source": [
    "changemin為交換最小者 直到排完"
   ]
  },
  {
   "cell_type": "markdown",
   "metadata": {},
   "source": [
    "minheap為進行minheap"
   ]
  },
  {
   "cell_type": "markdown",
   "metadata": {},
   "source": [
    "delTOP為刪除第一項值 將最後一項值填入第一項"
   ]
  },
  {
   "cell_type": "code",
   "execution_count": 3,
   "metadata": {},
   "outputs": [],
   "source": [
    "class Tree():\n",
    "    M=[]\n",
    "    def add(self,a):\n",
    "       self.M.append(a)\n",
    "    def get(self,a):\n",
    "        if a<len(self.M):\n",
    "            return self.M[a]\n",
    "        else:\n",
    "            return False\n",
    "    def getL(self,index):\n",
    "        aa=2*index+1\n",
    "        if aa<len(self.M):\n",
    "            return self.M[aa]\n",
    "        else:\n",
    "            return False\n",
    "    def getR(self,index):\n",
    "        aa=2*index+2\n",
    "        if aa<len(self.M):\n",
    "            return self.M[aa]\n",
    "        else:\n",
    "            return False\n",
    "    def changemax(self,index):\n",
    "        L=len(self.M)\n",
    "        if self.get(index)<=self.getR(index) and 2*index+2<L:\n",
    "            maxN=2*index+2\n",
    "        else:\n",
    "            maxN=index\n",
    "        if self.get(maxN)<=self.getL(index) and 2*index+1<L:\n",
    "            maxN=2*index+1\n",
    "        if self.get(index)!=self.get(maxN):\n",
    "            temp=self.M[index]\n",
    "            self.M[index]=self.M[maxN]\n",
    "            self.M[maxN]=temp\n",
    "            self.changemax(maxN)\n",
    "    def maxheap(self):\n",
    "        a=int((len(self.M)-2)/2)\n",
    "        for i in range(a,-1,-1):\n",
    "            self.changemax(i)\n",
    "    def changemin(self,index):\n",
    "        L=len(self.M)\n",
    "        if self.get(index)>=self.getR(index) and 2*index+2<L:\n",
    "            minN=2*index+2\n",
    "        else:\n",
    "            minN=index\n",
    "        if self.get(minN)>=self.getL(index) and 2*index+1<L:\n",
    "            minN=2*index+1\n",
    "        if self.get(index)!=self.get(minN):\n",
    "            temp=self.M[index]\n",
    "            self.M[index]=self.M[minN]\n",
    "            self.M[minN]=temp\n",
    "            self.changemin(minN)\n",
    "    def minheap(self):\n",
    "        a=int((len(self.M)-2)/2)\n",
    "        for i in range(a,-1,-1):\n",
    "            self.changemin(i)\n",
    "    def delTOP(self):\n",
    "        self.M[0]=self.M[len(self.M)-1]\n",
    "        self.M.pop()"
   ]
  },
  {
   "cell_type": "markdown",
   "metadata": {},
   "source": [
    "heapsort是運用heap tree 進行sort"
   ]
  },
  {
   "cell_type": "code",
   "execution_count": 4,
   "metadata": {},
   "outputs": [],
   "source": [
    "def heapsort(array):\n",
    "    t=Tree()\n",
    "    M=[]\n",
    "    for i in range(len(array)):\n",
    "        t.add(array[i])\n",
    "    for i in range(len(array)):\n",
    "        t.minheap()\n",
    "        M.append(t.M[0])\n",
    "        t.delTOP()\n",
    "    return M"
   ]
  },
  {
   "cell_type": "markdown",
   "metadata": {},
   "source": [
    "以下為示範"
   ]
  },
  {
   "cell_type": "code",
   "execution_count": 7,
   "metadata": {},
   "outputs": [
    {
     "name": "stdout",
     "output_type": "stream",
     "text": [
      "[-6357, -453, -75, -5, -1, -1, -1, 0, 0, 0, 1, 1, 1, 13, 13, 54, 56, 64]\n"
     ]
    }
   ],
   "source": [
    "N=[56,-5,1,64,-1,1,-1,-6357,-1,0,54,1,-453,13,-75,13,0,0]\n",
    "print(heapsort(N))"
   ]
  }
 ],
 "metadata": {
  "kernelspec": {
   "display_name": "Python 3",
   "language": "python",
   "name": "python3"
  },
  "language_info": {
   "codemirror_mode": {
    "name": "ipython",
    "version": 3
   },
   "file_extension": ".py",
   "mimetype": "text/x-python",
   "name": "python",
   "nbconvert_exporter": "python",
   "pygments_lexer": "ipython3",
   "version": "3.6.7"
  }
 },
 "nbformat": 4,
 "nbformat_minor": 2
}
