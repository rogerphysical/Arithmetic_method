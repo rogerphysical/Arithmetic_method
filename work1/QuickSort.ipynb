{
 "cells": [
  {
   "cell_type": "markdown",
   "metadata": {},
   "source": [
    "把最後一項當作pivot，分別由最前往後找大於pivot與最後往前找小於pivot，再進行交換，直到兩邊撞在同一點，最後把pivot至於中間位置。\n",
    "重複動作直到只剩下一個元素。"
   ]
  },
  {
   "cell_type": "code",
   "execution_count": 19,
   "metadata": {},
   "outputs": [],
   "source": [
    "def qs(array):\n",
    "    qsT2(array,0,len(array)-1)"
   ]
  },
  {
   "cell_type": "code",
   "execution_count": 36,
   "metadata": {},
   "outputs": [],
   "source": [
    "def qsT2(array,fi,la):\n",
    "    if fi<la:\n",
    "        mark=la\n",
    "        fi2=fi\n",
    "        la2=la-1\n",
    "        while 1:\n",
    "            while array[fi2]<=array[mark] and fi2<la2:\n",
    "                fi2=fi2+1\n",
    "            while array[la2]>=array[mark] and fi2<la2:\n",
    "                la2=la2-1\n",
    "            if fi2==la2:\n",
    "                break\n",
    "            else:\n",
    "                te=array[fi2]\n",
    "                array[fi2]=array[la2]\n",
    "                array[la2]=te\n",
    "        if array[la2]>array[mark]:\n",
    "            te2=array[la2]\n",
    "            array[la2]=array[mark]\n",
    "            array[mark]=te2\n",
    "        qsT2(array,fi,la2)\n",
    "        qsT2(array,la2+1,la)"
   ]
  },
  {
   "cell_type": "markdown",
   "metadata": {},
   "source": [
    "平均時間複雜度為O(n log n)"
   ]
  },
  {
   "cell_type": "code",
   "execution_count": null,
   "metadata": {},
   "outputs": [],
   "source": []
  }
 ],
 "metadata": {
  "kernelspec": {
   "display_name": "Python 3",
   "language": "python",
   "name": "python3"
  },
  "language_info": {
   "codemirror_mode": {
    "name": "ipython",
    "version": 3
   },
   "file_extension": ".py",
   "mimetype": "text/x-python",
   "name": "python",
   "nbconvert_exporter": "python",
   "pygments_lexer": "ipython3",
   "version": "3.6.7"
  }
 },
 "nbformat": 4,
 "nbformat_minor": 2
}
